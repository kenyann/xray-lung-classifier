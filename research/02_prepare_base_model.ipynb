{
 "cells": [
  {
   "cell_type": "code",
   "execution_count": 12,
   "metadata": {},
   "outputs": [
    {
     "data": {
      "text/plain": [
       "'/home/ken/Work/xray-lung-classifier'"
      ]
     },
     "execution_count": 12,
     "metadata": {},
     "output_type": "execute_result"
    }
   ],
   "source": [
    "import os\n",
    "os.chdir(\"../\")\n",
    "%pwd"
   ]
  },
  {
   "cell_type": "code",
   "execution_count": 13,
   "metadata": {},
   "outputs": [],
   "source": [
    "from dataclasses import dataclass\n",
    "from pathlib import Path\n",
    "\n",
    "@dataclass(frozen=True)\n",
    "class PrepareBaseModelConfig:\n",
    "    root_dir: Path\n",
    "    base_model_path: Path\n",
    "    updated_base_model_path: Path\n",
    "    params_model_lr_image_size: list\n",
    "    params_model_f_image_size: list\n",
    "    params_learning_rate: float\n",
    "    params_classes: int"
   ]
  },
  {
   "cell_type": "code",
   "execution_count": 14,
   "metadata": {},
   "outputs": [],
   "source": [
    "from cnnClassifier.constants import *\n",
    "from cnnClassifier.utils.common import read_yaml, create_directories\n"
   ]
  },
  {
   "cell_type": "code",
   "execution_count": 20,
   "metadata": {},
   "outputs": [],
   "source": [
    "class ConfigurationManager:\n",
    "    def __init__(\n",
    "        self,\n",
    "        config_filepath = CONFIG_FILE_PATH,\n",
    "        params_filepath = PARAMS_FILE_PATH):\n",
    "        \n",
    "        self.config = read_yaml(config_filepath)\n",
    "        self.params = read_yaml(params_filepath)\n",
    "        \n",
    "        create_directories([self.config.artifacts_root])\n",
    "    \n",
    "    def get_prepare_base_model_config(self) -> PrepareBaseModelConfig:\n",
    "        config = self.config.prepare_base_model\n",
    "        \n",
    "        create_directories([config.root_dir])\n",
    "        \n",
    "        prepare_base_model_config = PrepareBaseModelConfig(\n",
    "            root_dir=Path(config.root_dir),\n",
    "            base_model_path=Path(config.base_model_path),\n",
    "            updated_base_model_path=Path(config.updated_base_model_path),\n",
    "            params_model_lr_image_size= self.params.MODEL_LR_IMAGE_SIZE,\n",
    "            params_model_f_image_size= self.params.MODEL_F_IMAGE_SIZE,\n",
    "            params_learning_rate= self.params.LEARNING_RATE,\n",
    "            params_classes= self.params.CLASSES\n",
    "        )\n",
    "        \n",
    "        return prepare_base_model_config"
   ]
  },
  {
   "cell_type": "code",
   "execution_count": 21,
   "metadata": {},
   "outputs": [],
   "source": [
    "import os \n",
    "import urllib.request as request\n",
    "from zipfile import ZipFile\n",
    "import tensorflow as tf\n",
    "import keras\n",
    "from keras.models import Sequential\n",
    "from keras.layers import Dense, Conv2D , MaxPool2D , Flatten"
   ]
  },
  {
   "cell_type": "code",
   "execution_count": 28,
   "metadata": {},
   "outputs": [],
   "source": [
    "class PrepareBaseModel:\n",
    "    def __init__(self, config: PrepareBaseModelConfig, type):\n",
    "        self.config = config\n",
    "        self.params_image_size = config.params_model_lr_image_size if type == 'lr' else config.params_model_f_image_size\n",
    "        \n",
    "    def get_base_model(self):\n",
    "        self.model = tf.keras.Sequential()\n",
    "        self.model.add(Conv2D(8, (5,5), strides=1, padding='same' ,activation='relu', input_shape=self.params_image_size))\n",
    "        self.model.add(MaxPool2D((2,2), strides=2, padding='same'))\n",
    "\n",
    "        self.model.add(Conv2D(8, (5,5), strides=1, padding='same' ,activation='relu'))\n",
    "        self.model.add(MaxPool2D((2,2), strides=2, padding='same'))\n",
    "\n",
    "        self.model.add(Conv2D(16, (5,5), strides=1, padding='same' ,activation='relu'))\n",
    "        self.model.add(MaxPool2D((2,2), strides=2, padding='same'))\n",
    "\n",
    "        self.model.add(Conv2D(16, (5,5), strides=1, padding='same' ,activation='relu'))\n",
    "        self.model.add(MaxPool2D((2,2), strides=2, padding='same'))\n",
    "\n",
    "        self.model.add(Flatten())\n",
    "        self.model.add(Dense(units=self.config.params_classes,  activation='softmax'))\n",
    "        \n",
    "        self.model.compile(\n",
    "            optimizer=tf.keras.optimizers.Adam(learning_rate=self.config.params_learning_rate),\n",
    "            loss=tf.keras.losses.CategoricalCrossentropy(), \n",
    "            metrics=[\"accuracy\"])\n",
    "        \n",
    "        self.save_model(path=self.config.base_model_path, model=self.model)\n",
    "        \n",
    "    @staticmethod\n",
    "    def save_model(path: Path, model: tf.keras.Model):\n",
    "        model.save(path)\n",
    "\n"
   ]
  },
  {
   "cell_type": "code",
   "execution_count": 29,
   "metadata": {},
   "outputs": [
    {
     "name": "stdout",
     "output_type": "stream",
     "text": [
      "[2024-02-26 23:47:54,963: INFO: common: yaml file: config/config.yaml loaded successfully]\n",
      "[2024-02-26 23:47:54,966: INFO: common: yaml file: params.yaml loaded successfully]\n",
      "[2024-02-26 23:47:54,967: INFO: common: created directory at: artifacts]\n",
      "[2024-02-26 23:47:54,968: INFO: common: created directory at: artifacts/prepare_base_model]\n"
     ]
    },
    {
     "name": "stderr",
     "output_type": "stream",
     "text": [
      "/home/ken/.virtualenvs/tensorflow/lib/python3.9/site-packages/keras/src/engine/training.py:3103: UserWarning: You are saving your model as an HDF5 file via `model.save()`. This file format is considered legacy. We recommend using instead the native Keras format, e.g. `model.save('my_model.keras')`.\n",
      "  saving_api.save_model(\n"
     ]
    }
   ],
   "source": [
    "try:\n",
    "    config = ConfigurationManager()\n",
    "    prepare_base_model_config = config.get_prepare_base_model_config()\n",
    "    model_left = PrepareBaseModel(config=prepare_base_model_config, type='lr')\n",
    "    model_right = PrepareBaseModel(config=prepare_base_model_config, type='lr')\n",
    "    model_full = PrepareBaseModel(config=prepare_base_model_config, type='f')\n",
    "    \n",
    "    model_left.get_base_model()\n",
    "    model_right.get_base_model()\n",
    "    model_full.get_base_model()\n",
    "    \n",
    "\n",
    "except Exception as e:\n",
    "    raise e"
   ]
  },
  {
   "cell_type": "code",
   "execution_count": null,
   "metadata": {},
   "outputs": [],
   "source": []
  }
 ],
 "metadata": {
  "kernelspec": {
   "display_name": "tensorflow",
   "language": "python",
   "name": "python3"
  },
  "language_info": {
   "codemirror_mode": {
    "name": "ipython",
    "version": 3
   },
   "file_extension": ".py",
   "mimetype": "text/x-python",
   "name": "python",
   "nbconvert_exporter": "python",
   "pygments_lexer": "ipython3",
   "version": "3.9.18"
  }
 },
 "nbformat": 4,
 "nbformat_minor": 2
}
